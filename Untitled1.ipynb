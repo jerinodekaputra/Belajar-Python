{
 "cells": [
  {
   "cell_type": "code",
   "execution_count": 75,
   "id": "448824bf-cbac-4c00-a6eb-1177f196b3ab",
   "metadata": {},
   "outputs": [
    {
     "name": "stdin",
     "output_type": "stream",
     "text": [
      "Masukkan tinggi badan anda :  160\n",
      "Masukan berat badan anda :  50\n"
     ]
    },
    {
     "name": "stdout",
     "output_type": "stream",
     "text": [
      "Berat badan anda adalah ideal\n"
     ]
    }
   ],
   "source": [
    "a = int (input(\"Masukkan tinggi badan anda : \"))\n",
    "b = int (input(\"Masukan berat badan anda : \"))\n",
    "\n",
    "c = int ( a - 110 )\n",
    "\n",
    "if (b == c) :\n",
    "    print (\"Berat badan anda adalah ideal\")\n",
    "elif (b < c) :\n",
    "    print (\"Berat badan anda adalah kurus\")\n",
    "elif (b > c) :\n",
    "    print (\"Berat badan anda adalah gemuk\")\n",
    "\n"
   ]
  },
  {
   "cell_type": "code",
   "execution_count": null,
   "id": "d90953b6-b886-483b-a8f7-78b121483a96",
   "metadata": {},
   "outputs": [],
   "source": []
  }
 ],
 "metadata": {
  "kernelspec": {
   "display_name": "Python 3 (ipykernel)",
   "language": "python",
   "name": "python3"
  },
  "language_info": {
   "codemirror_mode": {
    "name": "ipython",
    "version": 3
   },
   "file_extension": ".py",
   "mimetype": "text/x-python",
   "name": "python",
   "nbconvert_exporter": "python",
   "pygments_lexer": "ipython3",
   "version": "3.12.4"
  }
 },
 "nbformat": 4,
 "nbformat_minor": 5
}
